{
 "cells": [
  {
   "cell_type": "code",
   "execution_count": 2,
   "metadata": {},
   "outputs": [],
   "source": [
    "import numpy as np\n",
    "import pickle"
   ]
  },
  {
   "cell_type": "code",
   "execution_count": 21,
   "metadata": {},
   "outputs": [],
   "source": [
    "data = None\n",
    "column_names = ['long', 'sweet', 'yellow', 'seed', 'Brazil']\n",
    "\n",
    "with open('fruit_data.pkl', 'rb') as fin:\n",
    "    data = pickle.load(fin)"
   ]
  },
  {
   "cell_type": "code",
   "execution_count": 19,
   "metadata": {},
   "outputs": [
    {
     "data": {
      "text/plain": [
       "array([['others', '0', '1', '0', '1', '0'],\n",
       "       ['bananas', '1', '0', '1', '0', '0'],\n",
       "       ['bananas', '1', '0', '1', '0', '0'],\n",
       "       ...,\n",
       "       ['bananas', '1', '1', '1', '0', '0'],\n",
       "       ['oranges', '0', '1', '0', '1', '0'],\n",
       "       ['oranges', '0', '1', '0', '1', '0']], dtype='<U21')"
      ]
     },
     "execution_count": 19,
     "metadata": {},
     "output_type": "execute_result"
    }
   ],
   "source": [
    "data"
   ]
  },
  {
   "cell_type": "markdown",
   "metadata": {},
   "source": [
    "## Prior"
   ]
  },
  {
   "cell_type": "code",
   "execution_count": 12,
   "metadata": {},
   "outputs": [
    {
     "data": {
      "text/plain": [
       "array([['others'],\n",
       "       ['bananas'],\n",
       "       ['bananas'],\n",
       "       ...,\n",
       "       ['bananas'],\n",
       "       ['oranges'],\n",
       "       ['oranges']], dtype='<U21')"
      ]
     },
     "execution_count": 12,
     "metadata": {},
     "output_type": "execute_result"
    }
   ],
   "source": [
    "data[:, :1]"
   ]
  },
  {
   "cell_type": "code",
   "execution_count": 16,
   "metadata": {},
   "outputs": [
    {
     "data": {
      "text/plain": [
       "array([0.28571429, 0.21428571, 0.35714286, 0.14285714])"
      ]
     },
     "execution_count": 16,
     "metadata": {},
     "output_type": "execute_result"
    }
   ],
   "source": [
    "pre_priors = np.unique(data[:, :1], return_counts=True) # <- magic, this almost returns our prior probabilities\n",
    "pre_priors[1]/len(data)"
   ]
  },
  {
   "cell_type": "code",
   "execution_count": 57,
   "metadata": {},
   "outputs": [
    {
     "data": {
      "text/plain": [
       "array(['bananas', 'mangoes', 'oranges', 'others'], dtype='<U21')"
      ]
     },
     "execution_count": 57,
     "metadata": {},
     "output_type": "execute_result"
    }
   ],
   "source": [
    "labels"
   ]
  },
  {
   "cell_type": "code",
   "execution_count": 18,
   "metadata": {},
   "outputs": [],
   "source": [
    "labels = pre_priors[0]\n",
    "priors = pre_priors[1]/len(data)"
   ]
  },
  {
   "cell_type": "markdown",
   "metadata": {},
   "source": [
    "This was easy 👌"
   ]
  },
  {
   "cell_type": "markdown",
   "metadata": {},
   "source": [
    "## Posterior"
   ]
  },
  {
   "cell_type": "code",
   "execution_count": 30,
   "metadata": {},
   "outputs": [
    {
     "data": {
      "text/plain": [
       "array([   1,    2,    3,    5,    6,    7,   11,   16,   18,   20,   22,\n",
       "         25,   26,   29,   44,   47,   50,   51,   52,   53,   54,   56,\n",
       "         60,   61,   65,   66,   68,   69,   73,   75,   76,   84,   96,\n",
       "         99,  101,  108,  112,  123,  124,  126,  128,  131,  133,  134,\n",
       "        135,  142,  146,  148,  150,  152,  154,  155,  161,  165,  166,\n",
       "        167,  173,  174,  180,  181,  185,  186,  187,  193,  201,  204,\n",
       "        205,  207,  214,  215,  220,  225,  226,  230,  233,  234,  239,\n",
       "        242,  255,  260,  261,  265,  266,  270,  272,  275,  288,  291,\n",
       "        294,  296,  305,  306,  307,  311,  314,  318,  319,  320,  324,\n",
       "        326,  327,  334,  342,  344,  348,  363,  364,  365,  366,  367,\n",
       "        369,  370,  376,  378,  380,  381,  385,  390,  391,  396,  401,\n",
       "        402,  403,  407,  408,  413,  415,  416,  417,  419,  420,  421,\n",
       "        422,  424,  426,  434,  437,  438,  441,  444,  448,  455,  459,\n",
       "        464,  468,  473,  474,  477,  480,  484,  485,  488,  489,  491,\n",
       "        492,  493,  499,  501,  502,  504,  505,  507,  508,  511,  514,\n",
       "        515,  517,  518,  521,  524,  537,  539,  541,  552,  554,  555,\n",
       "        557,  561,  562,  566,  569,  575,  586,  587,  588,  589,  591,\n",
       "        593,  595,  598,  601,  607,  608,  616,  619,  623,  631,  636,\n",
       "        638,  639,  647,  649,  652,  675,  676,  678,  680,  685,  687,\n",
       "        689,  691,  695,  697,  700,  702,  708,  710,  714,  719,  720,\n",
       "        723,  737,  748,  753,  759,  773,  776,  777,  783,  784,  785,\n",
       "        792,  799,  809,  810,  812,  822,  824,  825,  826,  834,  841,\n",
       "        848,  851,  859,  861,  863,  865,  866,  869,  870,  873,  874,\n",
       "        875,  876,  879,  888,  889,  890,  892,  896,  898,  901,  903,\n",
       "        907,  912,  914,  918,  921,  925,  931,  932,  936,  958,  959,\n",
       "        961,  964,  968,  969,  974,  976,  979,  988,  991,  993,  996,\n",
       "        997, 1000, 1002, 1003, 1005, 1007, 1012, 1014, 1017, 1018, 1019,\n",
       "       1024, 1025, 1027, 1029, 1031, 1036, 1043, 1044, 1049, 1050, 1051,\n",
       "       1054, 1063, 1066, 1067, 1069, 1077, 1078, 1081, 1085, 1086, 1087,\n",
       "       1093, 1095, 1099, 1102, 1103, 1106, 1109, 1111, 1118, 1119, 1123,\n",
       "       1125, 1130, 1131, 1133, 1136, 1139, 1143, 1144, 1145, 1150, 1152,\n",
       "       1154, 1156, 1163, 1166, 1169, 1171, 1178, 1181, 1185, 1186, 1189,\n",
       "       1193, 1196, 1197, 1198, 1199, 1201, 1213, 1215, 1217, 1227, 1233,\n",
       "       1234, 1240, 1243, 1253, 1257, 1260, 1267, 1269, 1272, 1273, 1280,\n",
       "       1282, 1288, 1289, 1290, 1298, 1301, 1311, 1313, 1320, 1323, 1333,\n",
       "       1341, 1343, 1344, 1350, 1355, 1363, 1369, 1370, 1378, 1379, 1384,\n",
       "       1385, 1390, 1394, 1397])"
      ]
     },
     "execution_count": 30,
     "metadata": {},
     "output_type": "execute_result"
    }
   ],
   "source": [
    "banana_indices = np.where(data[:, :1] == 'bananas')[0] # <- all row indices where there is data for bananas\n",
    "banana_indices"
   ]
  },
  {
   "cell_type": "code",
   "execution_count": 29,
   "metadata": {},
   "outputs": [
    {
     "data": {
      "text/plain": [
       "array([['bananas', '1', '0', '1', '0', '0'],\n",
       "       ['bananas', '1', '0', '1', '0', '0'],\n",
       "       ['bananas', '0', '1', '1', '0', '1'],\n",
       "       ...,\n",
       "       ['bananas', '1', '1', '1', '0', '0'],\n",
       "       ['bananas', '1', '1', '1', '0', '0'],\n",
       "       ['bananas', '1', '1', '1', '0', '0']], dtype='<U21')"
      ]
     },
     "execution_count": 29,
     "metadata": {},
     "output_type": "execute_result"
    }
   ],
   "source": [
    "bananas = data[banana_indices]\n",
    "bananas"
   ]
  },
  {
   "cell_type": "code",
   "execution_count": 31,
   "metadata": {},
   "outputs": [
    {
     "data": {
      "text/plain": [
       "array([['oranges', '0', '1', '0', '1', '0'],\n",
       "       ['oranges', '0', '1', '0', '1', '0'],\n",
       "       ['oranges', '0', '1', '0', '1', '0'],\n",
       "       ...,\n",
       "       ['oranges', '0', '1', '0', '1', '0'],\n",
       "       ['oranges', '0', '1', '0', '1', '0'],\n",
       "       ['oranges', '0', '1', '0', '1', '0']], dtype='<U21')"
      ]
     },
     "execution_count": 31,
     "metadata": {},
     "output_type": "execute_result"
    }
   ],
   "source": [
    "orange_indices = np.where(data[:, :1] == 'oranges')[0]\n",
    "oranges = data[orange_indices]\n",
    "oranges"
   ]
  },
  {
   "cell_type": "code",
   "execution_count": 32,
   "metadata": {},
   "outputs": [
    {
     "data": {
      "text/plain": [
       "array([['mangoes', '0', '1', '1', '0', '1'],\n",
       "       ['mangoes', '0', '0', '0', '0', '1'],\n",
       "       ['mangoes', '1', '1', '1', '0', '1'],\n",
       "       ...,\n",
       "       ['mangoes', '0', '1', '1', '0', '1'],\n",
       "       ['mangoes', '1', '1', '1', '0', '1'],\n",
       "       ['mangoes', '0', '0', '0', '0', '1']], dtype='<U21')"
      ]
     },
     "execution_count": 32,
     "metadata": {},
     "output_type": "execute_result"
    }
   ],
   "source": [
    "mango_indices = np.where(data[:, :1] == 'mangoes')[0]\n",
    "mangoes = data[mango_indices]\n",
    "mangoes"
   ]
  },
  {
   "cell_type": "code",
   "execution_count": 33,
   "metadata": {},
   "outputs": [
    {
     "data": {
      "text/plain": [
       "array([['others', '0', '1', '0', '1', '0'],\n",
       "       ['others', '1', '1', '0', '1', '0'],\n",
       "       ['others', '1', '1', '0', '1', '0'],\n",
       "       ...,\n",
       "       ['others', '0', '1', '0', '1', '0'],\n",
       "       ['others', '0', '1', '1', '1', '0'],\n",
       "       ['others', '0', '1', '1', '1', '0']], dtype='<U21')"
      ]
     },
     "execution_count": 33,
     "metadata": {},
     "output_type": "execute_result"
    }
   ],
   "source": [
    "other_indices = np.where(data[:, :1] == 'others')[0]\n",
    "others = data[other_indices]\n",
    "others"
   ]
  },
  {
   "cell_type": "code",
   "execution_count": 37,
   "metadata": {},
   "outputs": [
    {
     "data": {
      "text/plain": [
       "array([[0., 0., 0., 0., 0., 0., 0., 0., 0., 0.],\n",
       "       [0., 0., 0., 0., 0., 0., 0., 0., 0., 0.],\n",
       "       [0., 0., 0., 0., 0., 0., 0., 0., 0., 0.],\n",
       "       [0., 0., 0., 0., 0., 0., 0., 0., 0., 0.]])"
      ]
     },
     "execution_count": 37,
     "metadata": {},
     "output_type": "execute_result"
    }
   ],
   "source": [
    "# let's create our posterio matrix\n",
    "# row names -> bananas, mangoes, oranges, others\n",
    "# column indices -> long, NOT long, sweet, NOT sweet, yellow, NOT yellow, sweet, NOT sweet, Brazil, NOT Brazil\n",
    "# a 4x10 matrix\n",
    "\n",
    "posteriors = np.zeros([4, 10])\n",
    "posteriors"
   ]
  },
  {
   "cell_type": "code",
   "execution_count": 40,
   "metadata": {},
   "outputs": [
    {
     "data": {
      "text/plain": [
       "array([['others', '0', '1', '0', '1', '0'],\n",
       "       ['bananas', '1', '0', '1', '0', '0'],\n",
       "       ['bananas', '1', '0', '1', '0', '0'],\n",
       "       ...,\n",
       "       ['bananas', '1', '1', '1', '0', '0'],\n",
       "       ['oranges', '0', '1', '0', '1', '0'],\n",
       "       ['oranges', '0', '1', '0', '1', '0']], dtype='<U21')"
      ]
     },
     "execution_count": 40,
     "metadata": {},
     "output_type": "execute_result"
    }
   ],
   "source": [
    "data"
   ]
  },
  {
   "cell_type": "code",
   "execution_count": 56,
   "metadata": {},
   "outputs": [
    {
     "data": {
      "text/plain": [
       "40"
      ]
     },
     "execution_count": 56,
     "metadata": {},
     "output_type": "execute_result"
    }
   ],
   "source": [
    "# populate the posterior matrix\n",
    "\n",
    "# 1. bananas, e.g. posteriors matrix row 0\n",
    "int_feature = bananas[:, 1:2].astype('int') # <- which bananas are long - True or False\n",
    "int_feature.sum() # <- the count of long bananas\n",
    "len(bananas[:, 1:2]) - int_feature.sum() # <- the count of NOT long bananas"
   ]
  },
  {
   "cell_type": "code",
   "execution_count": 94,
   "metadata": {},
   "outputs": [],
   "source": [
    "def populate_posterior_row(ind, fruit_data_slice):\n",
    "    j = 0 \n",
    "    for i in range(len(column_names)+1):\n",
    "\n",
    "        # skips the first column, which holds the names of the fruits\n",
    "        if i == 0:\n",
    "            continue\n",
    "\n",
    "\n",
    "        int_feature = fruit_data_slice[:, i:i+1].astype('int')\n",
    "        feature_count = int_feature.sum() / len(fruit_data_slice)\n",
    "        not_feature_count = (len(fruit_data_slice[:, i:i+1]) - int_feature.sum()) / len(fruit_data_slice)\n",
    "\n",
    "        posteriors[ind, j] = feature_count\n",
    "        j += 1\n",
    "        posteriors[ind, j] = not_feature_count\n",
    "        j += 1"
   ]
  },
  {
   "cell_type": "code",
   "execution_count": 97,
   "metadata": {},
   "outputs": [],
   "source": [
    "populate_posterior_row(0, bananas)\n",
    "populate_posterior_row(1, mangoes)\n",
    "populate_posterior_row(2, oranges)\n",
    "populate_posterior_row(3, others)"
   ]
  },
  {
   "cell_type": "code",
   "execution_count": 98,
   "metadata": {},
   "outputs": [
    {
     "data": {
      "text/plain": [
       "array([[0.9       , 0.1       , 0.625     , 0.375     , 0.975     ,\n",
       "        0.025     , 0.        , 1.        , 0.1625    , 0.8375    ],\n",
       "       [0.36666667, 0.63333333, 0.66666667, 0.33333333, 0.4       ,\n",
       "        0.6       , 0.        , 1.        , 1.        , 0.        ],\n",
       "       [0.006     , 0.994     , 0.92      , 0.08      , 0.06      ,\n",
       "        0.94      , 0.94      , 0.06      , 0.02      , 0.98      ],\n",
       "       [0.225     , 0.775     , 1.        , 0.        , 0.5       ,\n",
       "        0.5       , 0.95      , 0.05      , 0.        , 1.        ]])"
      ]
     },
     "execution_count": 98,
     "metadata": {},
     "output_type": "execute_result"
    }
   ],
   "source": [
    "posteriors"
   ]
  },
  {
   "cell_type": "code",
   "execution_count": null,
   "metadata": {},
   "outputs": [],
   "source": []
  }
 ],
 "metadata": {
  "kernelspec": {
   "display_name": "Python 3",
   "language": "python",
   "name": "python3"
  },
  "language_info": {
   "codemirror_mode": {
    "name": "ipython",
    "version": 3
   },
   "file_extension": ".py",
   "mimetype": "text/x-python",
   "name": "python",
   "nbconvert_exporter": "python",
   "pygments_lexer": "ipython3",
   "version": "3.6.9"
  }
 },
 "nbformat": 4,
 "nbformat_minor": 4
}
