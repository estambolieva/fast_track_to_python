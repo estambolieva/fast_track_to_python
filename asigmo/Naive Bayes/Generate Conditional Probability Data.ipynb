{
 "cells": [
  {
   "cell_type": "code",
   "execution_count": 1,
   "metadata": {},
   "outputs": [],
   "source": [
    "import numpy as np\n",
    "import pandas as pd"
   ]
  },
  {
   "cell_type": "code",
   "execution_count": 1,
   "metadata": {},
   "outputs": [],
   "source": [
    "fruits = ['bananas', 'mangoes', 'oranges', 'others']\n",
    "features = ['long', 'sweet', 'yellow', 'seed', 'Brazil']\n",
    "quantities = [400, 300, 500, 200]"
   ]
  },
  {
   "cell_type": "code",
   "execution_count": 22,
   "metadata": {},
   "outputs": [],
   "source": [
    "\n",
    "def this_fruit_data(fruit_name, fruit_quantity, long_count, sweet_count, yellow_count, seed_count, br_count):\n",
    "\n",
    "\n",
    "    longg = np.concatenate((np.ones((long_count,), dtype=int), np.zeros((fruit_quantity - long_count,), dtype=int))) \n",
    "    np.random.shuffle(longg)\n",
    "\n",
    "    sweet = np.concatenate((np.ones((sweet_count,), dtype=int), np.zeros((fruit_quantity - sweet_count,), dtype=int))) \n",
    "    np.random.shuffle(sweet)\n",
    "\n",
    "    yellow = np.concatenate((np.ones((yellow_count,), dtype=int), np.zeros((fruit_quantity - yellow_count,), dtype=int))) \n",
    "    np.random.shuffle(yellow)\n",
    "\n",
    "    seeds = np.concatenate((np.ones((seed_count,), dtype=int), np.zeros((fruit_quantity - seed_count,), dtype=int))) \n",
    "    np.random.shuffle(seeds)\n",
    "\n",
    "    brazil = np.concatenate((np.ones((br_count,), dtype=int), np.zeros((fruit_quantity - br_count,), dtype=int))) \n",
    "    np.random.shuffle(brazil)\n",
    "\n",
    "    fruits = np.full((fruit_quantity,1), fruit_name)\n",
    "    this_fruit_data = np.column_stack((fruits, longg, sweet, yellow, seeds, brazil,))\n",
    "    return this_fruit_data"
   ]
  },
  {
   "cell_type": "code",
   "execution_count": 27,
   "metadata": {},
   "outputs": [],
   "source": [
    "bananas = this_fruit_data('bananas', quantities[0], 360, 250, 390, 0, 65)"
   ]
  },
  {
   "cell_type": "code",
   "execution_count": 28,
   "metadata": {},
   "outputs": [],
   "source": [
    "mangoes = this_fruit_data('mangoes', quantities[1], 110, 200, 120, 0, 300)"
   ]
  },
  {
   "cell_type": "code",
   "execution_count": 29,
   "metadata": {},
   "outputs": [],
   "source": [
    "oranges = this_fruit_data('oranges', quantities[2], 3, 460, 30, 470, 10)"
   ]
  },
  {
   "cell_type": "code",
   "execution_count": 30,
   "metadata": {},
   "outputs": [],
   "source": [
    "others = this_fruit_data('others', quantities[3], 45, 200, 100, 190, 0)"
   ]
  },
  {
   "cell_type": "code",
   "execution_count": 36,
   "metadata": {},
   "outputs": [],
   "source": [
    "total_fruit_data = np.vstack((bananas, mangoes, oranges, others))"
   ]
  },
  {
   "cell_type": "code",
   "execution_count": 39,
   "metadata": {},
   "outputs": [
    {
     "data": {
      "text/plain": [
       "array([['bananas', '1', '1', '1', '0', '0'],\n",
       "       ['bananas', '0', '0', '1', '0', '0'],\n",
       "       ['bananas', '1', '1', '1', '0', '0'],\n",
       "       ...,\n",
       "       ['others', '0', '1', '0', '1', '0'],\n",
       "       ['others', '0', '1', '0', '1', '0'],\n",
       "       ['others', '0', '1', '0', '1', '0']], dtype='<U21')"
      ]
     },
     "execution_count": 39,
     "metadata": {},
     "output_type": "execute_result"
    }
   ],
   "source": [
    "total_fruit_data"
   ]
  },
  {
   "cell_type": "code",
   "execution_count": 52,
   "metadata": {},
   "outputs": [],
   "source": [
    "mangoes_indices = np.where(total_fruit_data[:,0] == 'mangoes')[0]"
   ]
  },
  {
   "cell_type": "code",
   "execution_count": 67,
   "metadata": {},
   "outputs": [
    {
     "data": {
      "text/plain": [
       "120"
      ]
     },
     "execution_count": 67,
     "metadata": {},
     "output_type": "execute_result"
    }
   ],
   "source": [
    "sum(total_fruit_data[mangoes_indices][:,3] == '1')"
   ]
  },
  {
   "cell_type": "code",
   "execution_count": 69,
   "metadata": {},
   "outputs": [],
   "source": [
    "np.random.shuffle(total_fruit_data)"
   ]
  },
  {
   "cell_type": "code",
   "execution_count": 70,
   "metadata": {},
   "outputs": [
    {
     "data": {
      "text/plain": [
       "array([['others', '0', '1', '0', '1', '0'],\n",
       "       ['bananas', '1', '0', '1', '0', '0'],\n",
       "       ['bananas', '1', '0', '1', '0', '0'],\n",
       "       ...,\n",
       "       ['bananas', '1', '1', '1', '0', '0'],\n",
       "       ['oranges', '0', '1', '0', '1', '0'],\n",
       "       ['oranges', '0', '1', '0', '1', '0']], dtype='<U21')"
      ]
     },
     "execution_count": 70,
     "metadata": {},
     "output_type": "execute_result"
    }
   ],
   "source": [
    "total_fruit_data"
   ]
  },
  {
   "cell_type": "code",
   "execution_count": 68,
   "metadata": {},
   "outputs": [],
   "source": [
    "import pickle\n",
    "pickle.dump()"
   ]
  },
  {
   "cell_type": "code",
   "execution_count": null,
   "metadata": {},
   "outputs": [],
   "source": []
  }
 ],
 "metadata": {
  "kernelspec": {
   "display_name": "Python 3",
   "language": "python",
   "name": "python3"
  },
  "language_info": {
   "codemirror_mode": {
    "name": "ipython",
    "version": 3
   },
   "file_extension": ".py",
   "mimetype": "text/x-python",
   "name": "python",
   "nbconvert_exporter": "python",
   "pygments_lexer": "ipython3",
   "version": "3.6.9"
  }
 },
 "nbformat": 4,
 "nbformat_minor": 4
}
