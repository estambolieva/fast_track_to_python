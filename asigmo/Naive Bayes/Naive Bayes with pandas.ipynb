{
 "cells": [
  {
   "cell_type": "code",
   "execution_count": 1,
   "metadata": {},
   "outputs": [],
   "source": [
    "import numpy as np\n",
    "import pandas as pd\n",
    "import pickle"
   ]
  },
  {
   "cell_type": "code",
   "execution_count": 2,
   "metadata": {},
   "outputs": [],
   "source": [
    "data = None\n",
    "\n",
    "column_names = ['fruit', 'long', 'sweet', 'yellow', 'seed', 'Brazil']\n",
    "\n",
    "with open('../fruit_data.pkl', 'rb') as fin:\n",
    "    data = pickle.load(fin)"
   ]
  },
  {
   "cell_type": "code",
   "execution_count": 3,
   "metadata": {},
   "outputs": [
    {
     "data": {
      "text/plain": [
       "array([['others', '0', '1', '0', '1', '0'],\n",
       "       ['bananas', '1', '0', '1', '0', '0'],\n",
       "       ['bananas', '1', '0', '1', '0', '0'],\n",
       "       ...,\n",
       "       ['bananas', '1', '1', '1', '0', '0'],\n",
       "       ['oranges', '0', '1', '0', '1', '0'],\n",
       "       ['oranges', '0', '1', '0', '1', '0']], dtype='<U21')"
      ]
     },
     "execution_count": 3,
     "metadata": {},
     "output_type": "execute_result"
    }
   ],
   "source": [
    "data"
   ]
  },
  {
   "cell_type": "code",
   "execution_count": 4,
   "metadata": {},
   "outputs": [
    {
     "data": {
      "text/html": [
       "<div>\n",
       "<style scoped>\n",
       "    .dataframe tbody tr th:only-of-type {\n",
       "        vertical-align: middle;\n",
       "    }\n",
       "\n",
       "    .dataframe tbody tr th {\n",
       "        vertical-align: top;\n",
       "    }\n",
       "\n",
       "    .dataframe thead th {\n",
       "        text-align: right;\n",
       "    }\n",
       "</style>\n",
       "<table border=\"1\" class=\"dataframe\">\n",
       "  <thead>\n",
       "    <tr style=\"text-align: right;\">\n",
       "      <th></th>\n",
       "      <th>fruit</th>\n",
       "      <th>long</th>\n",
       "      <th>sweet</th>\n",
       "      <th>yellow</th>\n",
       "      <th>seed</th>\n",
       "      <th>Brazil</th>\n",
       "    </tr>\n",
       "  </thead>\n",
       "  <tbody>\n",
       "    <tr>\n",
       "      <th>0</th>\n",
       "      <td>others</td>\n",
       "      <td>0</td>\n",
       "      <td>1</td>\n",
       "      <td>0</td>\n",
       "      <td>1</td>\n",
       "      <td>0</td>\n",
       "    </tr>\n",
       "    <tr>\n",
       "      <th>1</th>\n",
       "      <td>bananas</td>\n",
       "      <td>1</td>\n",
       "      <td>0</td>\n",
       "      <td>1</td>\n",
       "      <td>0</td>\n",
       "      <td>0</td>\n",
       "    </tr>\n",
       "    <tr>\n",
       "      <th>2</th>\n",
       "      <td>bananas</td>\n",
       "      <td>1</td>\n",
       "      <td>0</td>\n",
       "      <td>1</td>\n",
       "      <td>0</td>\n",
       "      <td>0</td>\n",
       "    </tr>\n",
       "    <tr>\n",
       "      <th>3</th>\n",
       "      <td>bananas</td>\n",
       "      <td>0</td>\n",
       "      <td>1</td>\n",
       "      <td>1</td>\n",
       "      <td>0</td>\n",
       "      <td>1</td>\n",
       "    </tr>\n",
       "    <tr>\n",
       "      <th>4</th>\n",
       "      <td>oranges</td>\n",
       "      <td>0</td>\n",
       "      <td>1</td>\n",
       "      <td>0</td>\n",
       "      <td>1</td>\n",
       "      <td>0</td>\n",
       "    </tr>\n",
       "    <tr>\n",
       "      <th>...</th>\n",
       "      <td>...</td>\n",
       "      <td>...</td>\n",
       "      <td>...</td>\n",
       "      <td>...</td>\n",
       "      <td>...</td>\n",
       "      <td>...</td>\n",
       "    </tr>\n",
       "    <tr>\n",
       "      <th>1395</th>\n",
       "      <td>oranges</td>\n",
       "      <td>0</td>\n",
       "      <td>1</td>\n",
       "      <td>0</td>\n",
       "      <td>1</td>\n",
       "      <td>0</td>\n",
       "    </tr>\n",
       "    <tr>\n",
       "      <th>1396</th>\n",
       "      <td>mangoes</td>\n",
       "      <td>0</td>\n",
       "      <td>0</td>\n",
       "      <td>0</td>\n",
       "      <td>0</td>\n",
       "      <td>1</td>\n",
       "    </tr>\n",
       "    <tr>\n",
       "      <th>1397</th>\n",
       "      <td>bananas</td>\n",
       "      <td>1</td>\n",
       "      <td>1</td>\n",
       "      <td>1</td>\n",
       "      <td>0</td>\n",
       "      <td>0</td>\n",
       "    </tr>\n",
       "    <tr>\n",
       "      <th>1398</th>\n",
       "      <td>oranges</td>\n",
       "      <td>0</td>\n",
       "      <td>1</td>\n",
       "      <td>0</td>\n",
       "      <td>1</td>\n",
       "      <td>0</td>\n",
       "    </tr>\n",
       "    <tr>\n",
       "      <th>1399</th>\n",
       "      <td>oranges</td>\n",
       "      <td>0</td>\n",
       "      <td>1</td>\n",
       "      <td>0</td>\n",
       "      <td>1</td>\n",
       "      <td>0</td>\n",
       "    </tr>\n",
       "  </tbody>\n",
       "</table>\n",
       "<p>1400 rows × 6 columns</p>\n",
       "</div>"
      ],
      "text/plain": [
       "        fruit long sweet yellow seed Brazil\n",
       "0      others    0     1      0    1      0\n",
       "1     bananas    1     0      1    0      0\n",
       "2     bananas    1     0      1    0      0\n",
       "3     bananas    0     1      1    0      1\n",
       "4     oranges    0     1      0    1      0\n",
       "...       ...  ...   ...    ...  ...    ...\n",
       "1395  oranges    0     1      0    1      0\n",
       "1396  mangoes    0     0      0    0      1\n",
       "1397  bananas    1     1      1    0      0\n",
       "1398  oranges    0     1      0    1      0\n",
       "1399  oranges    0     1      0    1      0\n",
       "\n",
       "[1400 rows x 6 columns]"
      ]
     },
     "execution_count": 4,
     "metadata": {},
     "output_type": "execute_result"
    }
   ],
   "source": [
    "df = pd.DataFrame(data, columns=column_names)\n",
    "df"
   ]
  },
  {
   "cell_type": "code",
   "execution_count": 5,
   "metadata": {},
   "outputs": [],
   "source": [
    "df.long = pd.to_numeric(df.long)\n",
    "df.sweet = pd.to_numeric(df.sweet)\n",
    "df.yellow = pd.to_numeric(df.yellow)\n",
    "df.seed = pd.to_numeric(df.seed)\n",
    "df.Brazil = pd.to_numeric(df.Brazil)"
   ]
  },
  {
   "cell_type": "code",
   "execution_count": 22,
   "metadata": {},
   "outputs": [],
   "source": [
    "def train(df):\n",
    "    \n",
    "    priors = calculate_prior(df)\n",
    "    posteriors = calculate_posterior(df, priors)\n",
    "    \n",
    "    return priors, posteriors"
   ]
  },
  {
   "cell_type": "code",
   "execution_count": 23,
   "metadata": {},
   "outputs": [],
   "source": [
    "def calculate_prior(df):\n",
    "    return df.fruit.value_counts()/df.shape[0]"
   ]
  },
  {
   "cell_type": "code",
   "execution_count": 24,
   "metadata": {},
   "outputs": [],
   "source": [
    "def calculate_posterior(df, priors):\n",
    "    column_names = ['long', 'NOT_long', 'sweet', 'NOT_sweet', 'yellow', 'NOT_yellow', 'seed', 'NOT_seed', 'Brazil', 'NOT_Brazil']\n",
    "    posteriors = pd.DataFrame(np.zeros([4, 10]), index=priors.index, columns=column_names)\n",
    "    \n",
    "    # iterating over every fruit and calculating its posterior for the LONG and NOT LONG features\n",
    "    for feature in df.columns:\n",
    "\n",
    "        if feature != 'fruit':\n",
    "\n",
    "            feature_count = []\n",
    "            not_feature_count = []\n",
    "\n",
    "            for fruit in posteriors.index:\n",
    "\n",
    "                total_fruit_count = df[df.fruit == fruit].shape[0]\n",
    "                feature_count.append(df[df.fruit == fruit][feature].sum() / total_fruit_count)\n",
    "                not_feature_count.append((df[df.fruit == fruit].shape[0] - df[df.fruit == fruit][feature].sum()) / total_fruit_count)\n",
    "\n",
    "            posteriors[feature] = feature_count\n",
    "            posteriors['NOT_' + feature] = not_feature_count\n",
    "    return posteriors"
   ]
  },
  {
   "cell_type": "code",
   "execution_count": 26,
   "metadata": {},
   "outputs": [],
   "source": [
    "priors, posteriors = train(df)"
   ]
  },
  {
   "cell_type": "code",
   "execution_count": null,
   "metadata": {},
   "outputs": [],
   "source": []
  },
  {
   "cell_type": "code",
   "execution_count": null,
   "metadata": {},
   "outputs": [],
   "source": []
  }
 ],
 "metadata": {
  "kernelspec": {
   "display_name": "Python 3",
   "language": "python",
   "name": "python3"
  },
  "language_info": {
   "codemirror_mode": {
    "name": "ipython",
    "version": 3
   },
   "file_extension": ".py",
   "mimetype": "text/x-python",
   "name": "python",
   "nbconvert_exporter": "python",
   "pygments_lexer": "ipython3",
   "version": "3.6.9"
  }
 },
 "nbformat": 4,
 "nbformat_minor": 4
}
