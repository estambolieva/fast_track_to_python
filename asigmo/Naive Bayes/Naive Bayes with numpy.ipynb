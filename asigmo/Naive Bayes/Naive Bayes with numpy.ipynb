{
 "cells": [
  {
   "cell_type": "code",
   "execution_count": 1,
   "metadata": {},
   "outputs": [],
   "source": [
    "import numpy as np\n",
    "import pickle"
   ]
  },
  {
   "cell_type": "code",
   "execution_count": 2,
   "metadata": {},
   "outputs": [],
   "source": [
    "data = None\n",
    "column_names = ['long', 'sweet', 'yellow', 'seed', 'Brazil']\n",
    "\n",
    "with open('fruit_data.pkl', 'rb') as fin:\n",
    "    data = pickle.load(fin)"
   ]
  },
  {
   "cell_type": "code",
   "execution_count": 4,
   "metadata": {},
   "outputs": [],
   "source": [
    "priors = None\n",
    "posteriors = None"
   ]
  },
  {
   "cell_type": "code",
   "execution_count": 24,
   "metadata": {},
   "outputs": [],
   "source": [
    "def train():\n",
    "    \n",
    "    priors, fruits = get_priors()\n",
    "    \n",
    "    posteriors = get_posteriors(fruits)\n",
    "    \n",
    "    return priors, posteriors"
   ]
  },
  {
   "cell_type": "code",
   "execution_count": 23,
   "metadata": {},
   "outputs": [],
   "source": [
    "def get_priors():\n",
    "    pre_priors = np.unique(data[:, :1], return_counts=True)\n",
    "    fruits = pre_priors[0]\n",
    "    priors = pre_priors[1]/len(data)\n",
    "    return priors, fruits"
   ]
  },
  {
   "cell_type": "code",
   "execution_count": 78,
   "metadata": {},
   "outputs": [],
   "source": [
    "def get_posteriors(fruits):\n",
    "    \n",
    "    posteriors = np.zeros([len(fruits), 10])\n",
    "    \n",
    "    for fruit in fruits:\n",
    "        current_fruit_indices = np.where(data[:, :1] == fruit)[0]\n",
    "        current_fruit_data = data[current_fruit_indices]\n",
    "        \n",
    "        posteriors = populate_posterior_row(list(fruits).index(fruit), current_fruit_data, posteriors)\n",
    "    \n",
    "    return posteriors"
   ]
  },
  {
   "cell_type": "code",
   "execution_count": 107,
   "metadata": {},
   "outputs": [],
   "source": [
    "def populate_posterior_row(ind, fruit_data_slice, posteriors):\n",
    "    j = 0 \n",
    "    \n",
    "    for i in range(len(column_names) + 1):\n",
    "\n",
    "        # skips the first column, which holds the names of the fruits\n",
    "        if i == 0:\n",
    "            continue\n",
    "\n",
    "\n",
    "        int_feature = fruit_data_slice[:, i:i+1].astype('int')\n",
    "        feature_count = int_feature.sum() / len(fruit_data_slice)\n",
    "        not_feature_count = (len(fruit_data_slice[:, i:i+1]) - int_feature.sum()) / len(fruit_data_slice)\n",
    "\n",
    "        posteriors[ind, j] = feature_count\n",
    "        j += 1\n",
    "        posteriors[ind, j] = not_feature_count\n",
    "        j += 1\n",
    "    \n",
    "    return posteriors"
   ]
  },
  {
   "cell_type": "code",
   "execution_count": 108,
   "metadata": {},
   "outputs": [],
   "source": [
    "priors, posteriors = train()"
   ]
  },
  {
   "cell_type": "code",
   "execution_count": 109,
   "metadata": {},
   "outputs": [
    {
     "data": {
      "text/plain": [
       "array([0.28571429, 0.21428571, 0.35714286, 0.14285714])"
      ]
     },
     "execution_count": 109,
     "metadata": {},
     "output_type": "execute_result"
    }
   ],
   "source": [
    "priors"
   ]
  },
  {
   "cell_type": "code",
   "execution_count": 110,
   "metadata": {},
   "outputs": [
    {
     "data": {
      "text/plain": [
       "array([[0.9       , 0.1       , 0.625     , 0.375     , 0.975     ,\n",
       "        0.025     , 0.        , 1.        , 0.1625    , 0.8375    ],\n",
       "       [0.36666667, 0.63333333, 0.66666667, 0.33333333, 0.4       ,\n",
       "        0.6       , 0.        , 1.        , 1.        , 0.        ],\n",
       "       [0.006     , 0.994     , 0.92      , 0.08      , 0.06      ,\n",
       "        0.94      , 0.94      , 0.06      , 0.02      , 0.98      ],\n",
       "       [0.225     , 0.775     , 1.        , 0.        , 0.5       ,\n",
       "        0.5       , 0.95      , 0.05      , 0.        , 1.        ]])"
      ]
     },
     "execution_count": 110,
     "metadata": {},
     "output_type": "execute_result"
    }
   ],
   "source": [
    "posteriors"
   ]
  },
  {
   "cell_type": "code",
   "execution_count": null,
   "metadata": {},
   "outputs": [],
   "source": []
  }
 ],
 "metadata": {
  "kernelspec": {
   "display_name": "Python 3",
   "language": "python",
   "name": "python3"
  },
  "language_info": {
   "codemirror_mode": {
    "name": "ipython",
    "version": 3
   },
   "file_extension": ".py",
   "mimetype": "text/x-python",
   "name": "python",
   "nbconvert_exporter": "python",
   "pygments_lexer": "ipython3",
   "version": "3.6.9"
  }
 },
 "nbformat": 4,
 "nbformat_minor": 4
}
