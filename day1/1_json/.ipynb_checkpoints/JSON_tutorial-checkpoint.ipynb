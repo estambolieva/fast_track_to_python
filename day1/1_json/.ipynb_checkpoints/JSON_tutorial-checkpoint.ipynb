{
 "cells": [
  {
   "cell_type": "markdown",
   "metadata": {},
   "source": [
    "JavaScript Object Notation"
   ]
  },
  {
   "cell_type": "code",
   "execution_count": 1,
   "metadata": {
    "collapsed": true
   },
   "outputs": [],
   "source": [
    "import json"
   ]
  },
  {
   "cell_type": "code",
   "execution_count": 2,
   "metadata": {
    "collapsed": true
   },
   "outputs": [],
   "source": [
    "data = [ { 'a':'A', 'b':(2, 4), 'c':3.0 } ]"
   ]
  },
  {
   "cell_type": "code",
   "execution_count": 3,
   "metadata": {
    "collapsed": false
   },
   "outputs": [
    {
     "name": "stdout",
     "output_type": "stream",
     "text": [
      "[{'a': 'A', 'c': 3.0, 'b': (2, 4)}]\n"
     ]
    }
   ],
   "source": [
    "print data"
   ]
  },
  {
   "cell_type": "code",
   "execution_count": 4,
   "metadata": {
    "collapsed": false
   },
   "outputs": [
    {
     "data": {
      "text/plain": [
       "\"[{'a': 'A', 'c': 3.0, 'b': (2, 4)}]\""
      ]
     },
     "execution_count": 4,
     "metadata": {},
     "output_type": "execute_result"
    }
   ],
   "source": [
    "repr(data)"
   ]
  },
  {
   "cell_type": "markdown",
   "metadata": {},
   "source": [
    "JSON dumps() - serializes object to a JSON formatted string"
   ]
  },
  {
   "cell_type": "code",
   "execution_count": 5,
   "metadata": {
    "collapsed": true
   },
   "outputs": [],
   "source": [
    "data_string = json.dumps(data)"
   ]
  },
  {
   "cell_type": "code",
   "execution_count": 6,
   "metadata": {
    "collapsed": false
   },
   "outputs": [
    {
     "name": "stdout",
     "output_type": "stream",
     "text": [
      "JSON: [{\"a\": \"A\", \"c\": 3.0, \"b\": [2, 4]}]\n"
     ]
    }
   ],
   "source": [
    "print \"JSON: \" + data_string"
   ]
  },
  {
   "cell_type": "markdown",
   "metadata": {},
   "source": [
    "JSON sort keys"
   ]
  },
  {
   "cell_type": "code",
   "execution_count": 11,
   "metadata": {
    "collapsed": false
   },
   "outputs": [
    {
     "name": "stdout",
     "output_type": "stream",
     "text": [
      "{\"a\": 0, \"b\": 0, \"c\": 0}\n"
     ]
    }
   ],
   "source": [
    "print(json.dumps({\"c\": 0, \"b\": 0, \"a\": 0}, sort_keys=True))"
   ]
  },
  {
   "cell_type": "markdown",
   "metadata": {},
   "source": [
    "JSON indent - use for highly-nested structures"
   ]
  },
  {
   "cell_type": "code",
   "execution_count": 9,
   "metadata": {
    "collapsed": false
   },
   "outputs": [
    {
     "name": "stdout",
     "output_type": "stream",
     "text": [
      "{\n",
      "    \"4\": 5, \n",
      "    \"6\": 7\n",
      "}\n"
     ]
    }
   ],
   "source": [
    "print(json.dumps({'6': 7, '4': 5}, sort_keys=True, indent=4))"
   ]
  },
  {
   "cell_type": "code",
   "execution_count": 22,
   "metadata": {
    "collapsed": false
   },
   "outputs": [
    {
     "name": "stdout",
     "output_type": "stream",
     "text": [
      "INDENT: [\n",
      "  {\n",
      "    \"a\": \"A\", \n",
      "    \"b\": [\n",
      "      2, \n",
      "      4\n",
      "    ], \n",
      "    \"c\": 3.0\n",
      "  }\n",
      "]\n"
     ]
    }
   ],
   "source": [
    "data = [ { 'a':'A', 'b':(2, 4), 'c':3.0 } ]\n",
    "print 'INDENT:', json.dumps(data, sort_keys=True, indent=2)"
   ]
  },
  {
   "cell_type": "code",
   "execution_count": 12,
   "metadata": {
    "collapsed": false
   },
   "outputs": [
    {
     "data": {
      "text/plain": [
       "'[1,2,3,{\"4\":5,\"6\":7}]'"
      ]
     },
     "execution_count": 12,
     "metadata": {},
     "output_type": "execute_result"
    }
   ],
   "source": [
    "json.dumps([1,2,3,{'4': 5, '6': 7}], separators=(',', ':'))"
   ]
  },
  {
   "cell_type": "markdown",
   "metadata": {},
   "source": [
    "JSON - encode and decode (string are converted to unicode, tuples - to lists)"
   ]
  },
  {
   "cell_type": "code",
   "execution_count": 15,
   "metadata": {
    "collapsed": true
   },
   "outputs": [],
   "source": [
    "data = [ { 'a':'A', 'b':(2, 4), 'c':3.0 } ]\n",
    "# returns a JSON representation of a Python data structure\n",
    "data_string = json.dumps(data)"
   ]
  },
  {
   "cell_type": "code",
   "execution_count": 16,
   "metadata": {
    "collapsed": false
   },
   "outputs": [
    {
     "name": "stdout",
     "output_type": "stream",
     "text": [
      "ENCODED: [{\"a\": \"A\", \"c\": 3.0, \"b\": [2, 4]}]\n"
     ]
    }
   ],
   "source": [
    "print 'ENCODED:', data_string"
   ]
  },
  {
   "cell_type": "code",
   "execution_count": 17,
   "metadata": {
    "collapsed": false
   },
   "outputs": [
    {
     "name": "stdout",
     "output_type": "stream",
     "text": [
      "DECODED: [{u'a': u'A', u'c': 3.0, u'b': [2, 4]}]\n"
     ]
    }
   ],
   "source": [
    "# deserializes data_string to a Python object \n",
    "decoded = json.loads(data_string)\n",
    "print 'DECODED:', decoded"
   ]
  },
  {
   "cell_type": "code",
   "execution_count": 20,
   "metadata": {
    "collapsed": false
   },
   "outputs": [
    {
     "name": "stdout",
     "output_type": "stream",
     "text": [
      "ORIGINAL: (2, 4) <type 'tuple'>\n",
      "DECODED : [2, 4] <type 'list'>\n"
     ]
    }
   ],
   "source": [
    "print 'ORIGINAL:', data[0]['b'], type(data[0]['b'])\n",
    "print 'DECODED :', decoded[0]['b'], type(decoded[0]['b'])"
   ]
  },
  {
   "cell_type": "markdown",
   "metadata": {},
   "source": [
    "each of these operations increase the number of bytes needed to transmit the same amount of data, so be careful in production"
   ]
  },
  {
   "cell_type": "code",
   "execution_count": 23,
   "metadata": {
    "collapsed": false
   },
   "outputs": [
    {
     "name": "stdout",
     "output_type": "stream",
     "text": [
      "DATA: [{'a': 'A', 'c': 3.0, 'b': (2, 4)}]\n",
      "repr(data)             : 35\n",
      "dumps(data)            : 35\n",
      "dumps(data, indent=2)  : 76\n",
      "dumps(data, separators): 29\n"
     ]
    }
   ],
   "source": [
    "data = [ { 'a':'A', 'b':(2, 4), 'c':3.0 } ]\n",
    "print 'DATA:', repr(data)\n",
    "print 'repr(data)             :', len(repr(data))\n",
    "print 'dumps(data)            :', len(json.dumps(data))\n",
    "print 'dumps(data, indent=2)  :', len(json.dumps(data, indent=2))\n",
    "print 'dumps(data, separators):', len(json.dumps(data, separators=(',',':')))"
   ]
  },
  {
   "cell_type": "markdown",
   "metadata": {},
   "source": [
    "JSON - encoding dictionaries (dictionary keys are expected to be strings)"
   ]
  },
  {
   "cell_type": "code",
   "execution_count": 24,
   "metadata": {
    "collapsed": true
   },
   "outputs": [],
   "source": [
    "data = [ { 'a':'A', 'b':(2, 4), 'c':3.0, ('d',):'D tuple' } ]"
   ]
  },
  {
   "cell_type": "code",
   "execution_count": 25,
   "metadata": {
    "collapsed": false
   },
   "outputs": [
    {
     "name": "stdout",
     "output_type": "stream",
     "text": [
      "First attempt\n",
      "ERROR: keys must be a string\n",
      "\n",
      "Second attempt\n",
      "[{\"a\": \"A\", \"c\": 3.0, \"b\": [2, 4]}]\n"
     ]
    }
   ],
   "source": [
    "print 'First attempt'\n",
    "try:\n",
    "    print json.dumps(data)\n",
    "except (TypeError, ValueError) as err:\n",
    "    print 'ERROR:', err\n",
    "\n",
    "print\n",
    "print 'Second attempt'\n",
    "print json.dumps(data, skipkeys=True)"
   ]
  },
  {
   "cell_type": "markdown",
   "metadata": {},
   "source": [
    "JSON - working with custom object types"
   ]
  },
  {
   "cell_type": "code",
   "execution_count": 45,
   "metadata": {
    "collapsed": true
   },
   "outputs": [],
   "source": [
    "class MyObj(object):\n",
    "    def __init__(self, s):\n",
    "        self.s = s\n",
    "    def __repr__(self):\n",
    "        return '<MyObj(%s)>' % self.s"
   ]
  },
  {
   "cell_type": "markdown",
   "metadata": {},
   "source": [
    "Encode MyObj"
   ]
  },
  {
   "cell_type": "code",
   "execution_count": 46,
   "metadata": {
    "collapsed": false
   },
   "outputs": [
    {
     "name": "stdout",
     "output_type": "stream",
     "text": [
      "First attempt\n",
      "ERROR: <MyObj(instance value goes here)> is not JSON serializable\n",
      "\n",
      "With default\n",
      "default( <MyObj(instance value goes here)> )\n",
      "{\"s\": \"instance value goes here\", \"__module__\": \"__main__\", \"__class__\": \"MyObj\"}\n"
     ]
    }
   ],
   "source": [
    "obj = MyObj('instance value goes here')\n",
    "\n",
    "print 'First attempt'\n",
    "try:\n",
    "    print json.dumps(obj)\n",
    "except TypeError, err:\n",
    "    print 'ERROR:', err\n",
    "\n",
    "def convert_to_builtin_type(obj):\n",
    "    print 'default(', repr(obj), ')'\n",
    "    # Convert objects to a dictionary of their representation\n",
    "    d = { '__class__':obj.__class__.__name__, \n",
    "          '__module__':obj.__module__,\n",
    "          }\n",
    "    d.update(obj.__dict__)\n",
    "    return d\n",
    "\n",
    "print\n",
    "print 'With default'\n",
    "encoded_object = json.dumps(obj, default=convert_to_builtin_type)\n",
    "print encoded_object"
   ]
  },
  {
   "cell_type": "markdown",
   "metadata": {},
   "source": [
    "Decode MyObj"
   ]
  },
  {
   "cell_type": "code",
   "execution_count": 47,
   "metadata": {
    "collapsed": false
   },
   "outputs": [
    {
     "name": "stdout",
     "output_type": "stream",
     "text": [
      "MODULE: <module '__main__' (built-in)>\n",
      "CLASS: <class '__main__.MyObj'>\n",
      "INSTANCE ARGS: {'s': u'instance value goes here'}\n",
      "<MyObj(instance value goes here)>\n"
     ]
    }
   ],
   "source": [
    "import json\n",
    "\n",
    "def dict_to_object(d):\n",
    "    if '__class__' in d:\n",
    "        class_name = d.pop('__class__')\n",
    "        module_name = d.pop('__module__')\n",
    "        module = __import__(module_name)\n",
    "        print 'MODULE:', module\n",
    "        class_ = getattr(module, class_name)\n",
    "        print 'CLASS:', class_\n",
    "        # as json converts strings to unicode, we need to convert to ascii before using them as keys\n",
    "        args = dict( (key.encode('ascii'), value) for key, value in d.items())\n",
    "        print 'INSTANCE ARGS:', args\n",
    "        inst = class_(**args)\n",
    "    else:\n",
    "        inst = d\n",
    "    return inst\n",
    "\n",
    "myobj_instance = json.loads(encoded_object, object_hook=dict_to_object)\n",
    "print myobj_instance"
   ]
  },
  {
   "cell_type": "markdown",
   "metadata": {},
   "source": [
    "JSON Encoder Class"
   ]
  },
  {
   "cell_type": "code",
   "execution_count": 48,
   "metadata": {
    "collapsed": false
   },
   "outputs": [
    {
     "name": "stdout",
     "output_type": "stream",
     "text": [
      "PART: [\n",
      "PART: {\n",
      "PART: \"a\"\n",
      "PART: : \n",
      "PART: \"A\"\n",
      "PART: , \n",
      "PART: \"c\"\n",
      "PART: : \n",
      "PART: 3.0\n",
      "PART: , \n",
      "PART: \"b\"\n",
      "PART: : \n",
      "PART: [2\n",
      "PART: , 4\n",
      "PART: ]\n",
      "PART: }\n",
      "PART: ]\n"
     ]
    }
   ],
   "source": [
    "encoder = json.JSONEncoder()\n",
    "data = [ { 'a':'A', 'b':(2, 4), 'c':3.0 } ]\n",
    "\n",
    "# output is generated in logical units\n",
    "for part in encoder.iterencode(data):\n",
    "    print 'PART:', part"
   ]
  },
  {
   "cell_type": "markdown",
   "metadata": {},
   "source": [
    "Encode Custom Objects"
   ]
  },
  {
   "cell_type": "code",
   "execution_count": 49,
   "metadata": {
    "collapsed": false
   },
   "outputs": [
    {
     "name": "stdout",
     "output_type": "stream",
     "text": [
      "<MyObj(internal data)>\n",
      "default( <MyObj(internal data)> )\n",
      "{\"s\": \"internal data\", \"__module__\": \"__main__\", \"__class__\": \"MyObj\"}\n"
     ]
    }
   ],
   "source": [
    "import json\n",
    "\n",
    "class MyEncoder(json.JSONEncoder):\n",
    "    \n",
    "    def default(self, obj):\n",
    "        print 'default(', repr(obj), ')'\n",
    "        # Convert objects to a dictionary of their representation\n",
    "        d = { '__class__':obj.__class__.__name__, \n",
    "              '__module__':obj.__module__,\n",
    "              }\n",
    "        d.update(obj.__dict__)\n",
    "        return d\n",
    "\n",
    "obj = MyObj('internal data')\n",
    "print obj\n",
    "# encode custom class MyObj\n",
    "print MyEncoder().encode(obj)"
   ]
  },
  {
   "cell_type": "markdown",
   "metadata": {},
   "source": [
    "Decode Text, and covert the dictionary to objects"
   ]
  },
  {
   "cell_type": "code",
   "execution_count": 50,
   "metadata": {
    "collapsed": false
   },
   "outputs": [
    {
     "name": "stdout",
     "output_type": "stream",
     "text": [
      "{\"s\": \"instance value goes here\", \"__module__\": \"__main__\", \"__class__\": \"MyObj\"}\n",
      "MODULE: <module '__main__' (built-in)>\n",
      "CLASS: <class '__main__.MyObj'>\n",
      "INSTANCE ARGS: {'s': u'instance value goes here'}\n",
      "<MyObj(instance value goes here)>\n"
     ]
    }
   ],
   "source": [
    "class MyDecoder(json.JSONDecoder):\n",
    "    \n",
    "    def __init__(self):\n",
    "        json.JSONDecoder.__init__(self, object_hook=self.dict_to_object)\n",
    "\n",
    "    def dict_to_object(self, d):\n",
    "        if '__class__' in d:\n",
    "            class_name = d.pop('__class__')\n",
    "            module_name = d.pop('__module__')\n",
    "            module = __import__(module_name)\n",
    "            print 'MODULE:', module\n",
    "            class_ = getattr(module, class_name)\n",
    "            print 'CLASS:', class_\n",
    "            args = dict( (key.encode('ascii'), value) for key, value in d.items())\n",
    "            print 'INSTANCE ARGS:', args\n",
    "            inst = class_(**args)\n",
    "        else:\n",
    "            inst = d\n",
    "        return inst\n",
    "print encoded_object\n",
    "myobj_instance = MyDecoder().decode(encoded_object)\n",
    "print myobj_instance"
   ]
  },
  {
   "cell_type": "markdown",
   "metadata": {},
   "source": [
    "Working with Streams and Files"
   ]
  },
  {
   "cell_type": "markdown",
   "metadata": {},
   "source": [
    "Write encoding directly into a file for large data structures"
   ]
  },
  {
   "cell_type": "code",
   "execution_count": 52,
   "metadata": {
    "collapsed": false
   },
   "outputs": [
    {
     "name": "stdout",
     "output_type": "stream",
     "text": [
      "[{\"a\": \"A\", \"c\": 3.0, \"b\": [2, 4]}]\n"
     ]
    }
   ],
   "source": [
    "data = [ { 'a':'A', 'b':(2, 4), 'c':3.0 } ]\n",
    "\n",
    "f = open('test.file', mode='w+')\n",
    "json.dump(data, f)\n",
    "f.flush()\n",
    "\n",
    "print open(f.name, 'r').read()"
   ]
  },
  {
   "cell_type": "code",
   "execution_count": 54,
   "metadata": {
    "collapsed": false
   },
   "outputs": [
    {
     "name": "stdout",
     "output_type": "stream",
     "text": [
      "[{u'a': u'A', u'c': 3.0, u'b': [2, 4]}]\n"
     ]
    }
   ],
   "source": [
    "# set reference point at the beginning of the file\n",
    "f.seek(0)\n",
    "# load file as json\n",
    "print json.load(f)"
   ]
  },
  {
   "cell_type": "code",
   "execution_count": null,
   "metadata": {
    "collapsed": true
   },
   "outputs": [],
   "source": []
  }
 ],
 "metadata": {
  "kernelspec": {
   "display_name": "Python 2",
   "language": "python",
   "name": "python2"
  },
  "language_info": {
   "codemirror_mode": {
    "name": "ipython",
    "version": 2
   },
   "file_extension": ".py",
   "mimetype": "text/x-python",
   "name": "python",
   "nbconvert_exporter": "python",
   "pygments_lexer": "ipython2",
   "version": "2.7.11"
  }
 },
 "nbformat": 4,
 "nbformat_minor": 0
}
